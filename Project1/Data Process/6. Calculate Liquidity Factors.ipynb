{
 "cells": [
  {
   "cell_type": "markdown",
   "metadata": {},
   "source": [
    "# Import Packages"
   ]
  },
  {
   "cell_type": "code",
   "execution_count": 1,
   "metadata": {},
   "outputs": [],
   "source": [
    "import numpy as np \n",
    "import pandas as pd "
   ]
  },
  {
   "cell_type": "markdown",
   "metadata": {},
   "source": [
    "# Load Dataset and See"
   ]
  },
  {
   "cell_type": "code",
   "execution_count": 2,
   "metadata": {},
   "outputs": [],
   "source": [
    "df = pd.read_csv(\"D:\\\\NYU\\Syllabus\\Spring 2020\\Quant Equity Invest\\Project\\Original Data\\df_liquid.csv\")\n",
    "SPY = pd.read_csv(\"D:\\\\NYU\\Syllabus\\Spring 2020\\Quant Equity Invest\\Project\\Original Data\\SPY_Return.csv\")"
   ]
  },
  {
   "cell_type": "code",
   "execution_count": 3,
   "metadata": {},
   "outputs": [
    {
     "data": {
      "text/html": [
       "<div>\n",
       "<style scoped>\n",
       "    .dataframe tbody tr th:only-of-type {\n",
       "        vertical-align: middle;\n",
       "    }\n",
       "\n",
       "    .dataframe tbody tr th {\n",
       "        vertical-align: top;\n",
       "    }\n",
       "\n",
       "    .dataframe thead th {\n",
       "        text-align: right;\n",
       "    }\n",
       "</style>\n",
       "<table border=\"1\" class=\"dataframe\">\n",
       "  <thead>\n",
       "    <tr style=\"text-align: right;\">\n",
       "      <th></th>\n",
       "      <th>PERMNO</th>\n",
       "      <th>Date</th>\n",
       "      <th>TICKER</th>\n",
       "      <th>Price</th>\n",
       "      <th>Volume</th>\n",
       "      <th>Return</th>\n",
       "      <th>Shares Outstanding</th>\n",
       "      <th>Turnover</th>\n",
       "      <th>Dollar Turnover</th>\n",
       "      <th>Leverage</th>\n",
       "      <th>Current Ratio</th>\n",
       "      <th>Quick Ratio</th>\n",
       "      <th>Cash Ratio</th>\n",
       "      <th>Market Cap</th>\n",
       "    </tr>\n",
       "  </thead>\n",
       "  <tbody>\n",
       "    <tr>\n",
       "      <th>0</th>\n",
       "      <td>10051</td>\n",
       "      <td>1998-12-01</td>\n",
       "      <td>HGR</td>\n",
       "      <td>22.5000</td>\n",
       "      <td>12744</td>\n",
       "      <td>-0.062500</td>\n",
       "      <td>18179</td>\n",
       "      <td>0.701029</td>\n",
       "      <td>15.773145</td>\n",
       "      <td>0.505724</td>\n",
       "      <td>1.329366</td>\n",
       "      <td>1.329366</td>\n",
       "      <td>0.819465</td>\n",
       "      <td>409027.5000</td>\n",
       "    </tr>\n",
       "    <tr>\n",
       "      <th>1</th>\n",
       "      <td>10051</td>\n",
       "      <td>1999-01-01</td>\n",
       "      <td>HGR</td>\n",
       "      <td>25.0000</td>\n",
       "      <td>9577</td>\n",
       "      <td>0.111111</td>\n",
       "      <td>18179</td>\n",
       "      <td>0.526817</td>\n",
       "      <td>13.170416</td>\n",
       "      <td>0.505724</td>\n",
       "      <td>1.329366</td>\n",
       "      <td>1.329366</td>\n",
       "      <td>0.819465</td>\n",
       "      <td>454475.0000</td>\n",
       "    </tr>\n",
       "    <tr>\n",
       "      <th>2</th>\n",
       "      <td>10051</td>\n",
       "      <td>1999-02-01</td>\n",
       "      <td>HGR</td>\n",
       "      <td>15.1875</td>\n",
       "      <td>29372</td>\n",
       "      <td>-0.392500</td>\n",
       "      <td>18179</td>\n",
       "      <td>1.615710</td>\n",
       "      <td>24.538602</td>\n",
       "      <td>0.505724</td>\n",
       "      <td>1.329366</td>\n",
       "      <td>1.329366</td>\n",
       "      <td>0.819465</td>\n",
       "      <td>276093.5625</td>\n",
       "    </tr>\n",
       "  </tbody>\n",
       "</table>\n",
       "</div>"
      ],
      "text/plain": [
       "   PERMNO        Date TICKER    Price  Volume    Return  Shares Outstanding  \\\n",
       "0   10051  1998-12-01    HGR  22.5000   12744 -0.062500               18179   \n",
       "1   10051  1999-01-01    HGR  25.0000    9577  0.111111               18179   \n",
       "2   10051  1999-02-01    HGR  15.1875   29372 -0.392500               18179   \n",
       "\n",
       "   Turnover  Dollar Turnover  Leverage  Current Ratio  Quick Ratio  \\\n",
       "0  0.701029        15.773145  0.505724       1.329366     1.329366   \n",
       "1  0.526817        13.170416  0.505724       1.329366     1.329366   \n",
       "2  1.615710        24.538602  0.505724       1.329366     1.329366   \n",
       "\n",
       "   Cash Ratio   Market Cap  \n",
       "0    0.819465  409027.5000  \n",
       "1    0.819465  454475.0000  \n",
       "2    0.819465  276093.5625  "
      ]
     },
     "execution_count": 3,
     "metadata": {},
     "output_type": "execute_result"
    }
   ],
   "source": [
    "pd.set_option('display.max_columns', None)  # To see all columns\n",
    "df['Market Cap'] = df['Price'] * df['Shares Outstanding']\n",
    "df.head(3)"
   ]
  },
  {
   "cell_type": "markdown",
   "metadata": {},
   "source": [
    "# Test Turnover"
   ]
  },
  {
   "cell_type": "markdown",
   "metadata": {},
   "source": [
    "## Change Date into datetime type & Set Date as index"
   ]
  },
  {
   "cell_type": "code",
   "execution_count": 4,
   "metadata": {},
   "outputs": [
    {
     "data": {
      "text/html": [
       "<div>\n",
       "<style scoped>\n",
       "    .dataframe tbody tr th:only-of-type {\n",
       "        vertical-align: middle;\n",
       "    }\n",
       "\n",
       "    .dataframe tbody tr th {\n",
       "        vertical-align: top;\n",
       "    }\n",
       "\n",
       "    .dataframe thead th {\n",
       "        text-align: right;\n",
       "    }\n",
       "</style>\n",
       "<table border=\"1\" class=\"dataframe\">\n",
       "  <thead>\n",
       "    <tr style=\"text-align: right;\">\n",
       "      <th></th>\n",
       "      <th>PERMNO</th>\n",
       "      <th>TICKER</th>\n",
       "      <th>Price</th>\n",
       "      <th>Volume</th>\n",
       "      <th>Return</th>\n",
       "      <th>Shares Outstanding</th>\n",
       "      <th>Turnover</th>\n",
       "      <th>Dollar Turnover</th>\n",
       "      <th>Leverage</th>\n",
       "      <th>Current Ratio</th>\n",
       "      <th>Quick Ratio</th>\n",
       "      <th>Cash Ratio</th>\n",
       "      <th>Market Cap</th>\n",
       "    </tr>\n",
       "    <tr>\n",
       "      <th>Date</th>\n",
       "      <th></th>\n",
       "      <th></th>\n",
       "      <th></th>\n",
       "      <th></th>\n",
       "      <th></th>\n",
       "      <th></th>\n",
       "      <th></th>\n",
       "      <th></th>\n",
       "      <th></th>\n",
       "      <th></th>\n",
       "      <th></th>\n",
       "      <th></th>\n",
       "      <th></th>\n",
       "    </tr>\n",
       "  </thead>\n",
       "  <tbody>\n",
       "    <tr>\n",
       "      <th>1998-12-01</th>\n",
       "      <td>10051</td>\n",
       "      <td>HGR</td>\n",
       "      <td>22.5000</td>\n",
       "      <td>12744</td>\n",
       "      <td>-0.062500</td>\n",
       "      <td>18179</td>\n",
       "      <td>0.701029</td>\n",
       "      <td>15.773145</td>\n",
       "      <td>0.505724</td>\n",
       "      <td>1.329366</td>\n",
       "      <td>1.329366</td>\n",
       "      <td>0.819465</td>\n",
       "      <td>409027.5000</td>\n",
       "    </tr>\n",
       "    <tr>\n",
       "      <th>1999-01-01</th>\n",
       "      <td>10051</td>\n",
       "      <td>HGR</td>\n",
       "      <td>25.0000</td>\n",
       "      <td>9577</td>\n",
       "      <td>0.111111</td>\n",
       "      <td>18179</td>\n",
       "      <td>0.526817</td>\n",
       "      <td>13.170416</td>\n",
       "      <td>0.505724</td>\n",
       "      <td>1.329366</td>\n",
       "      <td>1.329366</td>\n",
       "      <td>0.819465</td>\n",
       "      <td>454475.0000</td>\n",
       "    </tr>\n",
       "    <tr>\n",
       "      <th>1999-02-01</th>\n",
       "      <td>10051</td>\n",
       "      <td>HGR</td>\n",
       "      <td>15.1875</td>\n",
       "      <td>29372</td>\n",
       "      <td>-0.392500</td>\n",
       "      <td>18179</td>\n",
       "      <td>1.615710</td>\n",
       "      <td>24.538602</td>\n",
       "      <td>0.505724</td>\n",
       "      <td>1.329366</td>\n",
       "      <td>1.329366</td>\n",
       "      <td>0.819465</td>\n",
       "      <td>276093.5625</td>\n",
       "    </tr>\n",
       "  </tbody>\n",
       "</table>\n",
       "</div>"
      ],
      "text/plain": [
       "            PERMNO TICKER    Price  Volume    Return  Shares Outstanding  \\\n",
       "Date                                                                       \n",
       "1998-12-01   10051    HGR  22.5000   12744 -0.062500               18179   \n",
       "1999-01-01   10051    HGR  25.0000    9577  0.111111               18179   \n",
       "1999-02-01   10051    HGR  15.1875   29372 -0.392500               18179   \n",
       "\n",
       "            Turnover  Dollar Turnover  Leverage  Current Ratio  Quick Ratio  \\\n",
       "Date                                                                          \n",
       "1998-12-01  0.701029        15.773145  0.505724       1.329366     1.329366   \n",
       "1999-01-01  0.526817        13.170416  0.505724       1.329366     1.329366   \n",
       "1999-02-01  1.615710        24.538602  0.505724       1.329366     1.329366   \n",
       "\n",
       "            Cash Ratio   Market Cap  \n",
       "Date                                 \n",
       "1998-12-01    0.819465  409027.5000  \n",
       "1999-01-01    0.819465  454475.0000  \n",
       "1999-02-01    0.819465  276093.5625  "
      ]
     },
     "execution_count": 4,
     "metadata": {},
     "output_type": "execute_result"
    }
   ],
   "source": [
    "df['Date'] = pd.to_datetime(df['Date'])\n",
    "df.set_index('Date', inplace=True)\n",
    "df.head(3)"
   ]
  },
  {
   "cell_type": "markdown",
   "metadata": {},
   "source": [
    "## Construct Date list"
   ]
  },
  {
   "cell_type": "code",
   "execution_count": 5,
   "metadata": {},
   "outputs": [],
   "source": [
    "Date = []\n",
    "for i in range(1995, 2016):\n",
    "    for j in range(1, 13):\n",
    "        date = str(i) + '-' + str(j)\n",
    "        Date.append(date)"
   ]
  },
  {
   "cell_type": "code",
   "execution_count": 6,
   "metadata": {},
   "outputs": [
    {
     "data": {
      "text/plain": [
       "['1995-1', '1995-2', '1995-3', '1995-4', '1995-5']"
      ]
     },
     "execution_count": 6,
     "metadata": {},
     "output_type": "execute_result"
    }
   ],
   "source": [
    "Date[:5]   # See the first 5 elements"
   ]
  },
  {
   "cell_type": "markdown",
   "metadata": {},
   "source": [
    "## Sort by Turnover"
   ]
  },
  {
   "cell_type": "code",
   "execution_count": 7,
   "metadata": {},
   "outputs": [],
   "source": [
    "Return = []  # Used to store return for each month\n",
    "for date in Date:\n",
    "    DF = df[date].copy()  # Divide the big df into small DF by date\n",
    "    N = int(len(DF)/10)   # We decide to long top 10% of universe and short bottom 10%\n",
    "    DF = DF.sort_values(by = ['Turnover'], axis = 0, ascending = False)  # Sort by Turnover\n",
    "    #profit = ( DF.iloc[:N]['Return'].mean() - DF.iloc[-N:]['Return'].mean() ) / 2 \n",
    "    profit = DF.iloc[:N]['Return'].mean()\n",
    "    Return.append( profit ) # Store each month's profit"
   ]
  },
  {
   "cell_type": "code",
   "execution_count": 8,
   "metadata": {},
   "outputs": [
    {
     "data": {
      "text/plain": [
       "[0.05795374999999999,\n",
       " -0.020701047619047615,\n",
       " 0.06533047682119206,\n",
       " 0.03182373509933775,\n",
       " 0.041260573333333335]"
      ]
     },
     "execution_count": 8,
     "metadata": {},
     "output_type": "execute_result"
    }
   ],
   "source": [
    "Return[:5]  # See first 5 elements"
   ]
  },
  {
   "cell_type": "code",
   "execution_count": 9,
   "metadata": {},
   "outputs": [
    {
     "data": {
      "text/html": [
       "<div>\n",
       "<style scoped>\n",
       "    .dataframe tbody tr th:only-of-type {\n",
       "        vertical-align: middle;\n",
       "    }\n",
       "\n",
       "    .dataframe tbody tr th {\n",
       "        vertical-align: top;\n",
       "    }\n",
       "\n",
       "    .dataframe thead th {\n",
       "        text-align: right;\n",
       "    }\n",
       "</style>\n",
       "<table border=\"1\" class=\"dataframe\">\n",
       "  <thead>\n",
       "    <tr style=\"text-align: right;\">\n",
       "      <th></th>\n",
       "      <th>Date</th>\n",
       "      <th>Return</th>\n",
       "    </tr>\n",
       "  </thead>\n",
       "  <tbody>\n",
       "    <tr>\n",
       "      <th>0</th>\n",
       "      <td>1995-01-01</td>\n",
       "      <td>0.012817</td>\n",
       "    </tr>\n",
       "    <tr>\n",
       "      <th>1</th>\n",
       "      <td>1995-02-01</td>\n",
       "      <td>0.024591</td>\n",
       "    </tr>\n",
       "    <tr>\n",
       "      <th>2</th>\n",
       "      <td>1995-03-01</td>\n",
       "      <td>0.032419</td>\n",
       "    </tr>\n",
       "    <tr>\n",
       "      <th>3</th>\n",
       "      <td>1995-04-01</td>\n",
       "      <td>0.033357</td>\n",
       "    </tr>\n",
       "    <tr>\n",
       "      <th>4</th>\n",
       "      <td>1995-05-01</td>\n",
       "      <td>0.024729</td>\n",
       "    </tr>\n",
       "  </tbody>\n",
       "</table>\n",
       "</div>"
      ],
      "text/plain": [
       "         Date    Return\n",
       "0  1995-01-01  0.012817\n",
       "1  1995-02-01  0.024591\n",
       "2  1995-03-01  0.032419\n",
       "3  1995-04-01  0.033357\n",
       "4  1995-05-01  0.024729"
      ]
     },
     "execution_count": 9,
     "metadata": {},
     "output_type": "execute_result"
    }
   ],
   "source": [
    "SPY.head(5)"
   ]
  },
  {
   "cell_type": "code",
   "execution_count": 10,
   "metadata": {},
   "outputs": [],
   "source": [
    "Premium = pd.Series(Return) - pd.Series(SPY['Return'].values)"
   ]
  },
  {
   "cell_type": "code",
   "execution_count": 11,
   "metadata": {},
   "outputs": [
    {
     "data": {
      "text/plain": [
       "[<matplotlib.lines.Line2D at 0x186a0163f88>]"
      ]
     },
     "execution_count": 11,
     "metadata": {},
     "output_type": "execute_result"
    },
    {
     "data": {
      "image/png": "[encoded data removed]",
      "text/plain": [
       "<Figure size 432x288 with 1 Axes>"
      ]
     },
     "metadata": {
      "needs_background": "light"
     },
     "output_type": "display_data"
    }
   ],
   "source": [
    "import matplotlib.pyplot as plt\n",
    "# tmp = Premium + 1.0\n",
    "# Cumu = Premium.cumprod() - 1.0\n",
    "plt.plot(Premium)"
   ]
  },
  {
   "cell_type": "code",
   "execution_count": 12,
   "metadata": {},
   "outputs": [
    {
     "data": {
      "text/plain": [
       "0      1.045137\n",
       "1      0.954708\n",
       "2      1.032911\n",
       "3      0.998466\n",
       "4      1.016532\n",
       "         ...   \n",
       "247    0.960545\n",
       "248    0.978798\n",
       "249    1.066985\n",
       "250    0.870110\n",
       "251    0.897804\n",
       "Length: 252, dtype: float64"
      ]
     },
     "execution_count": 12,
     "metadata": {},
     "output_type": "execute_result"
    }
   ],
   "source": [
    "tmp = Premium + 1 \n",
    "tmp "
   ]
  },
  {
   "cell_type": "code",
   "execution_count": 13,
   "metadata": {},
   "outputs": [
    {
     "data": {
      "text/plain": [
       "0      1.045137\n",
       "1      0.997800\n",
       "2      1.030639\n",
       "3      1.029058\n",
       "4      1.046071\n",
       "         ...   \n",
       "247    8.220036\n",
       "248    8.045754\n",
       "249    8.584697\n",
       "250    7.469627\n",
       "251    6.706260\n",
       "Length: 252, dtype: float64"
      ]
     },
     "execution_count": 13,
     "metadata": {},
     "output_type": "execute_result"
    }
   ],
   "source": [
    "cumu = tmp.cumprod()\n",
    "cumu "
   ]
  },
  {
   "cell_type": "code",
   "execution_count": 14,
   "metadata": {},
   "outputs": [
    {
     "data": {
      "text/plain": [
       "0      0.045137\n",
       "1     -0.002200\n",
       "2      0.030639\n",
       "3      0.029058\n",
       "4      0.046071\n",
       "         ...   \n",
       "247    7.220036\n",
       "248    7.045754\n",
       "249    7.584697\n",
       "250    6.469627\n",
       "251    5.706260\n",
       "Length: 252, dtype: float64"
      ]
     },
     "execution_count": 14,
     "metadata": {},
     "output_type": "execute_result"
    }
   ],
   "source": [
    "a = cumu - 1 \n",
    "a "
   ]
  },
  {
   "cell_type": "code",
   "execution_count": 15,
   "metadata": {},
   "outputs": [
    {
     "data": {
      "text/plain": [
       "[<matplotlib.lines.Line2D at 0x186a0216c08>]"
      ]
     },
     "execution_count": 15,
     "metadata": {},
     "output_type": "execute_result"
    },
    {
     "data": {
      "image/png": "[encoded data removed]",
      "text/plain": [
       "<Figure size 432x288 with 1 Axes>"
      ]
     },
     "metadata": {
      "needs_background": "light"
     },
     "output_type": "display_data"
    }
   ],
   "source": [
    "plt.plot(a)"
   ]
  },
  {
   "cell_type": "code",
   "execution_count": 16,
   "metadata": {},
   "outputs": [
    {
     "data": {
      "text/plain": [
       "Ttest_1sampResult(statistic=2.0510417324197006, pvalue=0.04130110393587057)"
      ]
     },
     "execution_count": 16,
     "metadata": {},
     "output_type": "execute_result"
    }
   ],
   "source": [
    "from scipy import stats\n",
    "stats.ttest_1samp(Premium,0)"
   ]
  },
  {
   "cell_type": "code",
   "execution_count": 17,
   "metadata": {},
   "outputs": [
    {
     "data": {
      "text/plain": [
       "[<matplotlib.lines.Line2D at 0x186a12d4f48>]"
      ]
     },
     "execution_count": 17,
     "metadata": {},
     "output_type": "execute_result"
    },
    {
     "data": {
      "image/png": "[encoded data removed]",
      "text/plain": [
       "<Figure size 432x288 with 1 Axes>"
      ]
     },
     "metadata": {
      "needs_background": "light"
     },
     "output_type": "display_data"
    }
   ],
   "source": [
    "b = SPY['Return'] + 1\n",
    "b = b.cumprod() - 1\n",
    "plt.plot(b)"
   ]
  },
  {
   "cell_type": "code",
   "execution_count": 18,
   "metadata": {},
   "outputs": [
    {
     "data": {
      "text/plain": [
       "[<matplotlib.lines.Line2D at 0x186a1345808>]"
      ]
     },
     "execution_count": 18,
     "metadata": {},
     "output_type": "execute_result"
    },
    {
     "data": {
      "image/png": "[encoded data removed]",
      "text/plain": [
       "<Figure size 432x288 with 1 Axes>"
      ]
     },
     "metadata": {
      "needs_background": "light"
     },
     "output_type": "display_data"
    }
   ],
   "source": [
    "c = pd.Series(Return) + 1\n",
    "c = c.cumprod() - 1\n",
    "plt.plot(c)"
   ]
  },
  {
   "cell_type": "code",
   "execution_count": 19,
   "metadata": {},
   "outputs": [
    {
     "data": {
      "text/plain": [
       "[<matplotlib.lines.Line2D at 0x186a13a5f88>]"
      ]
     },
     "execution_count": 19,
     "metadata": {},
     "output_type": "execute_result"
    },
    {
     "data": {
      "image/png": "[encoded data removed]",
      "text/plain": [
       "<Figure size 432x288 with 1 Axes>"
      ]
     },
     "metadata": {
      "needs_background": "light"
     },
     "output_type": "display_data"
    }
   ],
   "source": [
    "d = c - b \n",
    "plt.plot(d)"
   ]
  },
  {
   "cell_type": "code",
   "execution_count": null,
   "metadata": {},
   "outputs": [],
   "source": []
  }
 ],
 "metadata": {
  "kernelspec": {
   "display_name": "Python 3",
   "language": "python",
   "name": "python3"
  },
  "language_info": {
   "codemirror_mode": {
    "name": "ipython",
    "version": 3
   },
   "file_extension": ".py",
   "mimetype": "text/x-python",
   "name": "python",
   "nbconvert_exporter": "python",
   "pygments_lexer": "ipython3",
   "version": "3.7.6"
  },
  "toc": {
   "base_numbering": 1,
   "nav_menu": {},
   "number_sections": true,
   "sideBar": true,
   "skip_h1_title": false,
   "title_cell": "Table of Contents",
   "title_sidebar": "Contents",
   "toc_cell": false,
   "toc_position": {},
   "toc_section_display": true,
   "toc_window_display": false
  }
 },
 "nbformat": 4,
 "nbformat_minor": 2
}
