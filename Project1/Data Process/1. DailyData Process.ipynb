{
 "cells": [
  {
   "cell_type": "code",
   "execution_count": 1,
   "metadata": {},
   "outputs": [],
   "source": [
    "import numpy as np \n",
    "import pandas as pd "
   ]
  },
  {
   "cell_type": "markdown",
   "metadata": {},
   "source": [
    "# Load Dataset"
   ]
  },
  {
   "cell_type": "code",
   "execution_count": 7,
   "metadata": {},
   "outputs": [
    {
     "name": "stderr",
     "output_type": "stream",
     "text": [
      "D:\\Anaconda\\Setup\\lib\\site-packages\\IPython\\core\\interactiveshell.py:3051: DtypeWarning: Columns (7) have mixed types. Specify dtype option on import or set low_memory=False.\n",
      "  interactivity=interactivity, compiler=compiler, result=result)\n"
     ]
    }
   ],
   "source": [
    "daily = pd.read_csv(\"D:\\\\NYU\\Syllabus\\Spring 2020\\Quant Equity Invest\\Project\\Daily.csv\")"
   ]
  },
  {
   "cell_type": "code",
   "execution_count": 8,
   "metadata": {},
   "outputs": [
    {
     "data": {
      "text/html": [
       "<div>\n",
       "<style scoped>\n",
       "    .dataframe tbody tr th:only-of-type {\n",
       "        vertical-align: middle;\n",
       "    }\n",
       "\n",
       "    .dataframe tbody tr th {\n",
       "        vertical-align: top;\n",
       "    }\n",
       "\n",
       "    .dataframe thead th {\n",
       "        text-align: right;\n",
       "    }\n",
       "</style>\n",
       "<table border=\"1\" class=\"dataframe\">\n",
       "  <thead>\n",
       "    <tr style=\"text-align: right;\">\n",
       "      <th></th>\n",
       "      <th>Unnamed: 0</th>\n",
       "      <th>PERMNO</th>\n",
       "      <th>Date</th>\n",
       "      <th>TICKER</th>\n",
       "      <th>COMNAM</th>\n",
       "      <th>Price</th>\n",
       "      <th>Volume</th>\n",
       "      <th>Return</th>\n",
       "      <th>Shares Outstading</th>\n",
       "      <th>Num of Trades</th>\n",
       "    </tr>\n",
       "  </thead>\n",
       "  <tbody>\n",
       "    <tr>\n",
       "      <th>0</th>\n",
       "      <td>0</td>\n",
       "      <td>10051</td>\n",
       "      <td>1998/12/15</td>\n",
       "      <td>HGR</td>\n",
       "      <td>HANGER ORTHOPEDIC GROUP INC</td>\n",
       "      <td>22.3125</td>\n",
       "      <td>11300.0</td>\n",
       "      <td>-0.005571</td>\n",
       "      <td>18179.0</td>\n",
       "      <td>NaN</td>\n",
       "    </tr>\n",
       "    <tr>\n",
       "      <th>1</th>\n",
       "      <td>1</td>\n",
       "      <td>10051</td>\n",
       "      <td>1998/12/16</td>\n",
       "      <td>HGR</td>\n",
       "      <td>HANGER ORTHOPEDIC GROUP INC</td>\n",
       "      <td>22.3125</td>\n",
       "      <td>9000.0</td>\n",
       "      <td>0.000000</td>\n",
       "      <td>18179.0</td>\n",
       "      <td>NaN</td>\n",
       "    </tr>\n",
       "    <tr>\n",
       "      <th>2</th>\n",
       "      <td>2</td>\n",
       "      <td>10051</td>\n",
       "      <td>1998/12/17</td>\n",
       "      <td>HGR</td>\n",
       "      <td>HANGER ORTHOPEDIC GROUP INC</td>\n",
       "      <td>22.8750</td>\n",
       "      <td>32500.0</td>\n",
       "      <td>0.025210</td>\n",
       "      <td>18179.0</td>\n",
       "      <td>NaN</td>\n",
       "    </tr>\n",
       "    <tr>\n",
       "      <th>3</th>\n",
       "      <td>3</td>\n",
       "      <td>10051</td>\n",
       "      <td>1998/12/18</td>\n",
       "      <td>HGR</td>\n",
       "      <td>HANGER ORTHOPEDIC GROUP INC</td>\n",
       "      <td>23.0000</td>\n",
       "      <td>57100.0</td>\n",
       "      <td>0.005464</td>\n",
       "      <td>18179.0</td>\n",
       "      <td>NaN</td>\n",
       "    </tr>\n",
       "    <tr>\n",
       "      <th>4</th>\n",
       "      <td>4</td>\n",
       "      <td>10051</td>\n",
       "      <td>1998/12/21</td>\n",
       "      <td>HGR</td>\n",
       "      <td>HANGER ORTHOPEDIC GROUP INC</td>\n",
       "      <td>22.8750</td>\n",
       "      <td>57200.0</td>\n",
       "      <td>-0.005435</td>\n",
       "      <td>18179.0</td>\n",
       "      <td>NaN</td>\n",
       "    </tr>\n",
       "  </tbody>\n",
       "</table>\n",
       "</div>"
      ],
      "text/plain": [
       "   Unnamed: 0  PERMNO        Date TICKER                       COMNAM  \\\n",
       "0           0   10051  1998/12/15    HGR  HANGER ORTHOPEDIC GROUP INC   \n",
       "1           1   10051  1998/12/16    HGR  HANGER ORTHOPEDIC GROUP INC   \n",
       "2           2   10051  1998/12/17    HGR  HANGER ORTHOPEDIC GROUP INC   \n",
       "3           3   10051  1998/12/18    HGR  HANGER ORTHOPEDIC GROUP INC   \n",
       "4           4   10051  1998/12/21    HGR  HANGER ORTHOPEDIC GROUP INC   \n",
       "\n",
       "     Price   Volume     Return  Shares Outstading  Num of Trades  \n",
       "0  22.3125  11300.0  -0.005571            18179.0            NaN  \n",
       "1  22.3125   9000.0   0.000000            18179.0            NaN  \n",
       "2  22.8750  32500.0   0.025210            18179.0            NaN  \n",
       "3  23.0000  57100.0   0.005464            18179.0            NaN  \n",
       "4  22.8750  57200.0  -0.005435            18179.0            NaN  "
      ]
     },
     "execution_count": 8,
     "metadata": {},
     "output_type": "execute_result"
    }
   ],
   "source": [
    "daily.head()"
   ]
  },
  {
   "cell_type": "code",
   "execution_count": 9,
   "metadata": {},
   "outputs": [],
   "source": [
    "del daily['Unnamed: 0']\n",
    "daily.to_csv(\"D:\\\\NYU\\Syllabus\\Spring 2020\\Quant Equity Invest\\Project\\Daily.csv\", index=False)"
   ]
  },
  {
   "cell_type": "code",
   "execution_count": null,
   "metadata": {},
   "outputs": [],
   "source": []
  }
 ],
 "metadata": {
  "kernelspec": {
   "display_name": "Python 3",
   "language": "python",
   "name": "python3"
  },
  "language_info": {
   "codemirror_mode": {
    "name": "ipython",
    "version": 3
   },
   "file_extension": ".py",
   "mimetype": "text/x-python",
   "name": "python",
   "nbconvert_exporter": "python",
   "pygments_lexer": "ipython3",
   "version": "3.7.6"
  },
  "toc": {
   "base_numbering": 1,
   "nav_menu": {},
   "number_sections": true,
   "sideBar": true,
   "skip_h1_title": false,
   "title_cell": "Table of Contents",
   "title_sidebar": "Contents",
   "toc_cell": false,
   "toc_position": {},
   "toc_section_display": true,
   "toc_window_display": false
  }
 },
 "nbformat": 4,
 "nbformat_minor": 2
}
