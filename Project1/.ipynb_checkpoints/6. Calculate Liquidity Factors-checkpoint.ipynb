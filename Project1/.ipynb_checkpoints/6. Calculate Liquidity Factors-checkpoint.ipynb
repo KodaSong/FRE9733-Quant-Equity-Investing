{
 "cells": [
  {
   "cell_type": "markdown",
   "metadata": {},
   "source": [
    "# Import Packages"
   ]
  },
  {
   "cell_type": "code",
   "execution_count": 1,
   "metadata": {},
   "outputs": [],
   "source": [
    "import numpy as np \n",
    "import pandas as pd "
   ]
  },
  {
   "cell_type": "markdown",
   "metadata": {},
   "source": [
    "# Load Dataset and See"
   ]
  },
  {
   "cell_type": "code",
   "execution_count": 2,
   "metadata": {},
   "outputs": [],
   "source": [
    "df = pd.read_csv(\"D:\\\\NYU\\Syllabus\\Spring 2020\\Quant Equity Invest\\Project\\Original Data\\df_liquid.csv\")\n",
    "SPY = pd.read_csv(\"D:\\\\NYU\\Syllabus\\Spring 2020\\Quant Equity Invest\\Project\\Original Data\\SPY_Return.csv\")"
   ]
  },
  {
   "cell_type": "code",
   "execution_count": 3,
   "metadata": {},
   "outputs": [
    {
     "data": {
      "text/html": [
       "<div>\n",
       "<style scoped>\n",
       "    .dataframe tbody tr th:only-of-type {\n",
       "        vertical-align: middle;\n",
       "    }\n",
       "\n",
       "    .dataframe tbody tr th {\n",
       "        vertical-align: top;\n",
       "    }\n",
       "\n",
       "    .dataframe thead th {\n",
       "        text-align: right;\n",
       "    }\n",
       "</style>\n",
       "<table border=\"1\" class=\"dataframe\">\n",
       "  <thead>\n",
       "    <tr style=\"text-align: right;\">\n",
       "      <th></th>\n",
       "      <th>PERMNO</th>\n",
       "      <th>Date</th>\n",
       "      <th>TICKER</th>\n",
       "      <th>Price</th>\n",
       "      <th>Volume</th>\n",
       "      <th>Return</th>\n",
       "      <th>Shares Outstanding</th>\n",
       "      <th>Turnover</th>\n",
       "      <th>Dollar Turnover</th>\n",
       "      <th>Leverage</th>\n",
       "      <th>Current Ratio</th>\n",
       "      <th>Quick Ratio</th>\n",
       "      <th>Cash Ratio</th>\n",
       "      <th>Market Cap</th>\n",
       "    </tr>\n",
       "  </thead>\n",
       "  <tbody>\n",
       "    <tr>\n",
       "      <th>0</th>\n",
       "      <td>10051</td>\n",
       "      <td>1998-12-01</td>\n",
       "      <td>HGR</td>\n",
       "      <td>22.5000</td>\n",
       "      <td>12744</td>\n",
       "      <td>-0.062500</td>\n",
       "      <td>18179</td>\n",
       "      <td>0.701029</td>\n",
       "      <td>15.773145</td>\n",
       "      <td>0.505724</td>\n",
       "      <td>1.329366</td>\n",
       "      <td>1.329366</td>\n",
       "      <td>0.819465</td>\n",
       "      <td>409027.5000</td>\n",
       "    </tr>\n",
       "    <tr>\n",
       "      <th>1</th>\n",
       "      <td>10051</td>\n",
       "      <td>1999-01-01</td>\n",
       "      <td>HGR</td>\n",
       "      <td>25.0000</td>\n",
       "      <td>9577</td>\n",
       "      <td>0.111111</td>\n",
       "      <td>18179</td>\n",
       "      <td>0.526817</td>\n",
       "      <td>13.170416</td>\n",
       "      <td>0.505724</td>\n",
       "      <td>1.329366</td>\n",
       "      <td>1.329366</td>\n",
       "      <td>0.819465</td>\n",
       "      <td>454475.0000</td>\n",
       "    </tr>\n",
       "    <tr>\n",
       "      <th>2</th>\n",
       "      <td>10051</td>\n",
       "      <td>1999-02-01</td>\n",
       "      <td>HGR</td>\n",
       "      <td>15.1875</td>\n",
       "      <td>29372</td>\n",
       "      <td>-0.392500</td>\n",
       "      <td>18179</td>\n",
       "      <td>1.615710</td>\n",
       "      <td>24.538602</td>\n",
       "      <td>0.505724</td>\n",
       "      <td>1.329366</td>\n",
       "      <td>1.329366</td>\n",
       "      <td>0.819465</td>\n",
       "      <td>276093.5625</td>\n",
       "    </tr>\n",
       "  </tbody>\n",
       "</table>\n",
       "</div>"
      ],
      "text/plain": [
       "   PERMNO        Date TICKER    Price  Volume    Return  Shares Outstanding  \\\n",
       "0   10051  1998-12-01    HGR  22.5000   12744 -0.062500               18179   \n",
       "1   10051  1999-01-01    HGR  25.0000    9577  0.111111               18179   \n",
       "2   10051  1999-02-01    HGR  15.1875   29372 -0.392500               18179   \n",
       "\n",
       "   Turnover  Dollar Turnover  Leverage  Current Ratio  Quick Ratio  \\\n",
       "0  0.701029        15.773145  0.505724       1.329366     1.329366   \n",
       "1  0.526817        13.170416  0.505724       1.329366     1.329366   \n",
       "2  1.615710        24.538602  0.505724       1.329366     1.329366   \n",
       "\n",
       "   Cash Ratio   Market Cap  \n",
       "0    0.819465  409027.5000  \n",
       "1    0.819465  454475.0000  \n",
       "2    0.819465  276093.5625  "
      ]
     },
     "execution_count": 3,
     "metadata": {},
     "output_type": "execute_result"
    }
   ],
   "source": [
    "pd.set_option('display.max_columns', None)  # To see all columns\n",
    "df['Market Cap'] = df['Price'] * df['Shares Outstanding']\n",
    "df.head(3)"
   ]
  },
  {
   "cell_type": "markdown",
   "metadata": {},
   "source": [
    "# Test Turnover"
   ]
  },
  {
   "cell_type": "markdown",
   "metadata": {},
   "source": [
    "## Change Date into datetime type & Set Date as index"
   ]
  },
  {
   "cell_type": "code",
   "execution_count": 4,
   "metadata": {},
   "outputs": [
    {
     "data": {
      "text/html": [
       "<div>\n",
       "<style scoped>\n",
       "    .dataframe tbody tr th:only-of-type {\n",
       "        vertical-align: middle;\n",
       "    }\n",
       "\n",
       "    .dataframe tbody tr th {\n",
       "        vertical-align: top;\n",
       "    }\n",
       "\n",
       "    .dataframe thead th {\n",
       "        text-align: right;\n",
       "    }\n",
       "</style>\n",
       "<table border=\"1\" class=\"dataframe\">\n",
       "  <thead>\n",
       "    <tr style=\"text-align: right;\">\n",
       "      <th></th>\n",
       "      <th>PERMNO</th>\n",
       "      <th>TICKER</th>\n",
       "      <th>Price</th>\n",
       "      <th>Volume</th>\n",
       "      <th>Return</th>\n",
       "      <th>Shares Outstanding</th>\n",
       "      <th>Turnover</th>\n",
       "      <th>Dollar Turnover</th>\n",
       "      <th>Leverage</th>\n",
       "      <th>Current Ratio</th>\n",
       "      <th>Quick Ratio</th>\n",
       "      <th>Cash Ratio</th>\n",
       "      <th>Market Cap</th>\n",
       "    </tr>\n",
       "    <tr>\n",
       "      <th>Date</th>\n",
       "      <th></th>\n",
       "      <th></th>\n",
       "      <th></th>\n",
       "      <th></th>\n",
       "      <th></th>\n",
       "      <th></th>\n",
       "      <th></th>\n",
       "      <th></th>\n",
       "      <th></th>\n",
       "      <th></th>\n",
       "      <th></th>\n",
       "      <th></th>\n",
       "      <th></th>\n",
       "    </tr>\n",
       "  </thead>\n",
       "  <tbody>\n",
       "    <tr>\n",
       "      <th>1998-12-01</th>\n",
       "      <td>10051</td>\n",
       "      <td>HGR</td>\n",
       "      <td>22.5000</td>\n",
       "      <td>12744</td>\n",
       "      <td>-0.062500</td>\n",
       "      <td>18179</td>\n",
       "      <td>0.701029</td>\n",
       "      <td>15.773145</td>\n",
       "      <td>0.505724</td>\n",
       "      <td>1.329366</td>\n",
       "      <td>1.329366</td>\n",
       "      <td>0.819465</td>\n",
       "      <td>409027.5000</td>\n",
       "    </tr>\n",
       "    <tr>\n",
       "      <th>1999-01-01</th>\n",
       "      <td>10051</td>\n",
       "      <td>HGR</td>\n",
       "      <td>25.0000</td>\n",
       "      <td>9577</td>\n",
       "      <td>0.111111</td>\n",
       "      <td>18179</td>\n",
       "      <td>0.526817</td>\n",
       "      <td>13.170416</td>\n",
       "      <td>0.505724</td>\n",
       "      <td>1.329366</td>\n",
       "      <td>1.329366</td>\n",
       "      <td>0.819465</td>\n",
       "      <td>454475.0000</td>\n",
       "    </tr>\n",
       "    <tr>\n",
       "      <th>1999-02-01</th>\n",
       "      <td>10051</td>\n",
       "      <td>HGR</td>\n",
       "      <td>15.1875</td>\n",
       "      <td>29372</td>\n",
       "      <td>-0.392500</td>\n",
       "      <td>18179</td>\n",
       "      <td>1.615710</td>\n",
       "      <td>24.538602</td>\n",
       "      <td>0.505724</td>\n",
       "      <td>1.329366</td>\n",
       "      <td>1.329366</td>\n",
       "      <td>0.819465</td>\n",
       "      <td>276093.5625</td>\n",
       "    </tr>\n",
       "  </tbody>\n",
       "</table>\n",
       "</div>"
      ],
      "text/plain": [
       "            PERMNO TICKER    Price  Volume    Return  Shares Outstanding  \\\n",
       "Date                                                                       \n",
       "1998-12-01   10051    HGR  22.5000   12744 -0.062500               18179   \n",
       "1999-01-01   10051    HGR  25.0000    9577  0.111111               18179   \n",
       "1999-02-01   10051    HGR  15.1875   29372 -0.392500               18179   \n",
       "\n",
       "            Turnover  Dollar Turnover  Leverage  Current Ratio  Quick Ratio  \\\n",
       "Date                                                                          \n",
       "1998-12-01  0.701029        15.773145  0.505724       1.329366     1.329366   \n",
       "1999-01-01  0.526817        13.170416  0.505724       1.329366     1.329366   \n",
       "1999-02-01  1.615710        24.538602  0.505724       1.329366     1.329366   \n",
       "\n",
       "            Cash Ratio   Market Cap  \n",
       "Date                                 \n",
       "1998-12-01    0.819465  409027.5000  \n",
       "1999-01-01    0.819465  454475.0000  \n",
       "1999-02-01    0.819465  276093.5625  "
      ]
     },
     "execution_count": 4,
     "metadata": {},
     "output_type": "execute_result"
    }
   ],
   "source": [
    "df['Date'] = pd.to_datetime(df['Date'])\n",
    "df.set_index('Date', inplace=True)\n",
    "df.head(3)"
   ]
  },
  {
   "cell_type": "markdown",
   "metadata": {},
   "source": [
    "## Construct Date list"
   ]
  },
  {
   "cell_type": "code",
   "execution_count": 56,
   "metadata": {},
   "outputs": [],
   "source": [
    "Date = []\n",
    "for i in range(1995, 2016):\n",
    "    for j in range(1, 13):\n",
    "        date = str(i) + '-' + str(j)\n",
    "        Date.append(date)"
   ]
  },
  {
   "cell_type": "code",
   "execution_count": 64,
   "metadata": {},
   "outputs": [
    {
     "data": {
      "text/plain": [
       "['1995-1', '1995-2', '1995-3', '1995-4', '1995-5']"
      ]
     },
     "execution_count": 64,
     "metadata": {},
     "output_type": "execute_result"
    }
   ],
   "source": [
    "Date[:5]   # See the first 5 elements"
   ]
  },
  {
   "cell_type": "markdown",
   "metadata": {},
   "source": [
    "## Sort by Turnover"
   ]
  },
  {
   "cell_type": "code",
   "execution_count": 96,
   "metadata": {},
   "outputs": [],
   "source": [
    "Return = []  # Used to store return for each month\n",
    "for date in Date:\n",
    "    DF = df[date].copy()  # Divide the big df into small DF by date\n",
    "    N = int(len(DF)/10)   # We decide to long top 10% of universe and short bottom 10%\n",
    "    DF = DF.sort_values(by = ['Turnover'], axis = 0, ascending = False)  # Sort by Turnover\n",
    "    profit = ( DF.iloc[:N]['Return'].mean() - DF.iloc[-N:]['Return'].mean() ) / 2 \n",
    "    Return.append( profit ) # Store each month's profit"
   ]
  },
  {
   "cell_type": "code",
   "execution_count": 103,
   "metadata": {},
   "outputs": [
    {
     "data": {
      "text/plain": [
       "Ttest_1sampResult(statistic=3.5897646751550125, pvalue=0.00039798832542497034)"
      ]
     },
     "execution_count": 103,
     "metadata": {},
     "output_type": "execute_result"
    }
   ],
   "source": [
    "from scipy import stats\n",
    "stats.ttest_1samp(Return, 0)"
   ]
  },
  {
   "cell_type": "code",
   "execution_count": 110,
   "metadata": {},
   "outputs": [
    {
     "data": {
      "text/plain": [
       "252"
      ]
     },
     "execution_count": 110,
     "metadata": {},
     "output_type": "execute_result"
    }
   ],
   "source": [
    "len(Return)"
   ]
  },
  {
   "cell_type": "code",
   "execution_count": null,
   "metadata": {},
   "outputs": [],
   "source": []
  }
 ],
 "metadata": {
  "kernelspec": {
   "display_name": "Python 3",
   "language": "python",
   "name": "python3"
  },
  "language_info": {
   "codemirror_mode": {
    "name": "ipython",
    "version": 3
   },
   "file_extension": ".py",
   "mimetype": "text/x-python",
   "name": "python",
   "nbconvert_exporter": "python",
   "pygments_lexer": "ipython3",
   "version": "3.7.6"
  },
  "toc": {
   "base_numbering": 1,
   "nav_menu": {},
   "number_sections": true,
   "sideBar": true,
   "skip_h1_title": false,
   "title_cell": "Table of Contents",
   "title_sidebar": "Contents",
   "toc_cell": false,
   "toc_position": {},
   "toc_section_display": true,
   "toc_window_display": false
  }
 },
 "nbformat": 4,
 "nbformat_minor": 2
}
