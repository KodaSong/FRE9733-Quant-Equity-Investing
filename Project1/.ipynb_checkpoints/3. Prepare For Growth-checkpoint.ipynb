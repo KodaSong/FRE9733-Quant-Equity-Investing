{
 "cells": [
  {
   "cell_type": "code",
   "execution_count": 1,
   "metadata": {},
   "outputs": [],
   "source": [
    "import numpy as np \n",
    "import pandas as pd "
   ]
  },
  {
   "cell_type": "code",
   "execution_count": 2,
   "metadata": {},
   "outputs": [],
   "source": [
    "df = pd.read_csv(\"D:\\\\NYU\\Syllabus\\Spring 2020\\Quant Equity Invest\\Project\\Original Data\\Quarterly1.csv\")"
   ]
  },
  {
   "cell_type": "code",
   "execution_count": 3,
   "metadata": {},
   "outputs": [
    {
     "data": {
      "text/html": [
       "<div>\n",
       "<style scoped>\n",
       "    .dataframe tbody tr th:only-of-type {\n",
       "        vertical-align: middle;\n",
       "    }\n",
       "\n",
       "    .dataframe tbody tr th {\n",
       "        vertical-align: top;\n",
       "    }\n",
       "\n",
       "    .dataframe thead th {\n",
       "        text-align: right;\n",
       "    }\n",
       "</style>\n",
       "<table border=\"1\" class=\"dataframe\">\n",
       "  <thead>\n",
       "    <tr style=\"text-align: right;\">\n",
       "      <th></th>\n",
       "      <th>PERMNO</th>\n",
       "      <th>Date</th>\n",
       "      <th>TICKER</th>\n",
       "      <th>COMNAM</th>\n",
       "      <th>Current Assets</th>\n",
       "      <th>Assets</th>\n",
       "      <th>Cash&amp;Short Term</th>\n",
       "      <th>EPS_Basic</th>\n",
       "      <th>Inventory</th>\n",
       "      <th>Current Liabilities</th>\n",
       "      <th>Liabilities</th>\n",
       "      <th>Operating Income</th>\n",
       "      <th>EPS_Operation</th>\n",
       "      <th>Revenue</th>\n",
       "      <th>Net Income</th>\n",
       "      <th>Equities</th>\n",
       "      <th>Leverage</th>\n",
       "      <th>Current Ratio</th>\n",
       "      <th>Quick Ratio</th>\n",
       "      <th>Cash Ratio</th>\n",
       "    </tr>\n",
       "  </thead>\n",
       "  <tbody>\n",
       "    <tr>\n",
       "      <th>0</th>\n",
       "      <td>54594</td>\n",
       "      <td>1994-08-31</td>\n",
       "      <td>AIR</td>\n",
       "      <td>AAR CORP</td>\n",
       "      <td>307.882</td>\n",
       "      <td>410.644</td>\n",
       "      <td>7.199</td>\n",
       "      <td>0.13</td>\n",
       "      <td>182.105</td>\n",
       "      <td>66.562</td>\n",
       "      <td>220.524</td>\n",
       "      <td>7.808</td>\n",
       "      <td>0.13</td>\n",
       "      <td>97.191</td>\n",
       "      <td>2.005</td>\n",
       "      <td>190.120</td>\n",
       "      <td>0.537020</td>\n",
       "      <td>4.625492</td>\n",
       "      <td>1.889622</td>\n",
       "      <td>0.108155</td>\n",
       "    </tr>\n",
       "    <tr>\n",
       "      <th>1</th>\n",
       "      <td>54594</td>\n",
       "      <td>1994-11-30</td>\n",
       "      <td>AIR</td>\n",
       "      <td>AAR CORP</td>\n",
       "      <td>310.681</td>\n",
       "      <td>413.529</td>\n",
       "      <td>1.647</td>\n",
       "      <td>0.13</td>\n",
       "      <td>192.493</td>\n",
       "      <td>69.590</td>\n",
       "      <td>222.949</td>\n",
       "      <td>7.805</td>\n",
       "      <td>0.13</td>\n",
       "      <td>99.384</td>\n",
       "      <td>2.005</td>\n",
       "      <td>190.580</td>\n",
       "      <td>0.539138</td>\n",
       "      <td>4.464449</td>\n",
       "      <td>1.698347</td>\n",
       "      <td>0.023667</td>\n",
       "    </tr>\n",
       "    <tr>\n",
       "      <th>2</th>\n",
       "      <td>54594</td>\n",
       "      <td>1995-02-28</td>\n",
       "      <td>AIR</td>\n",
       "      <td>AAR CORP</td>\n",
       "      <td>322.377</td>\n",
       "      <td>425.363</td>\n",
       "      <td>9.511</td>\n",
       "      <td>0.18</td>\n",
       "      <td>183.795</td>\n",
       "      <td>73.251</td>\n",
       "      <td>231.240</td>\n",
       "      <td>9.389</td>\n",
       "      <td>0.18</td>\n",
       "      <td>125.232</td>\n",
       "      <td>2.005</td>\n",
       "      <td>194.123</td>\n",
       "      <td>0.543630</td>\n",
       "      <td>4.400991</td>\n",
       "      <td>1.891879</td>\n",
       "      <td>0.129841</td>\n",
       "    </tr>\n",
       "  </tbody>\n",
       "</table>\n",
       "</div>"
      ],
      "text/plain": [
       "   PERMNO        Date TICKER    COMNAM  Current Assets   Assets  \\\n",
       "0   54594  1994-08-31    AIR  AAR CORP         307.882  410.644   \n",
       "1   54594  1994-11-30    AIR  AAR CORP         310.681  413.529   \n",
       "2   54594  1995-02-28    AIR  AAR CORP         322.377  425.363   \n",
       "\n",
       "   Cash&Short Term  EPS_Basic  Inventory  Current Liabilities  Liabilities  \\\n",
       "0            7.199       0.13    182.105               66.562      220.524   \n",
       "1            1.647       0.13    192.493               69.590      222.949   \n",
       "2            9.511       0.18    183.795               73.251      231.240   \n",
       "\n",
       "   Operating Income  EPS_Operation  Revenue  Net Income  Equities  Leverage  \\\n",
       "0             7.808           0.13   97.191       2.005   190.120  0.537020   \n",
       "1             7.805           0.13   99.384       2.005   190.580  0.539138   \n",
       "2             9.389           0.18  125.232       2.005   194.123  0.543630   \n",
       "\n",
       "   Current Ratio  Quick Ratio  Cash Ratio  \n",
       "0       4.625492     1.889622    0.108155  \n",
       "1       4.464449     1.698347    0.023667  \n",
       "2       4.400991     1.891879    0.129841  "
      ]
     },
     "execution_count": 3,
     "metadata": {},
     "output_type": "execute_result"
    }
   ],
   "source": [
    "del df['Unnamed: 0']\n",
    "df.head(3)"
   ]
  },
  {
   "cell_type": "code",
   "execution_count": 4,
   "metadata": {},
   "outputs": [],
   "source": [
    "df.dropna(thresh = 5, inplace = True)"
   ]
  },
  {
   "cell_type": "code",
   "execution_count": 5,
   "metadata": {},
   "outputs": [],
   "source": [
    "def fill_values_in_same_quarter(Series, Series1):\n",
    "    n = len(Series)\n",
    "    Series = list(Series)  # Transform into list will be faster\n",
    "    Series1 = list(Series1)\n",
    "    for i in range(1,n):\n",
    "        if np.isnan(Series[i]):\n",
    "            if np.isnan(Series[i-1]) == False and Series1[i] == Series1[i-1]:\n",
    "                Series[i] = Series[i-1]\n",
    "            elif np.isnan(Series[i-2]) == False and Series1[i] == Series1[i-2]:\n",
    "                Series[i] = Series[i-2]\n",
    "    Series = pd.Series(Series)  # Go back to pd.Series so that can add into dataframe           \n",
    "    return Series"
   ]
  },
  {
   "cell_type": "code",
   "execution_count": 6,
   "metadata": {},
   "outputs": [],
   "source": [
    "df['Assets'] = fill_values_in_same_quarter(df['Assets'], df['PERMNO'])\n",
    "df['EPS_Basic'] = fill_values_in_same_quarter(df['EPS_Basic'], df['PERMNO'])\n",
    "df['Liabilities'] = fill_values_in_same_quarter(df['Liabilities'], df['PERMNO'])\n",
    "df['Operating Income'] = fill_values_in_same_quarter(df['Operating Income'], df['PERMNO'])\n",
    "df['EPS_Operation'] = fill_values_in_same_quarter(df['EPS_Operation'], df['PERMNO'])\n",
    "df['Net Income'] = fill_values_in_same_quarter(df['Net Income'], df['PERMNO'])\n",
    "df['Revenue'] = fill_values_in_same_quarter(df['Revenue'], df['PERMNO'])\n",
    "df['Equities'] = fill_values_in_same_quarter(df['Equities'], df['PERMNO'])\n",
    "df['Leverage'] = fill_values_in_same_quarter(df['Leverage'], df['PERMNO'])\n",
    "df['Current Assets'] = fill_values_in_same_quarter(df['Current Assets'], df['PERMNO'])\n",
    "df['Current Liabilities'] = fill_values_in_same_quarter(df['Liabilities'], df['PERMNO'])\n",
    "df['Current Ratio'] = fill_values_in_same_quarter(df['Current Ratio'], df['PERMNO'])\n",
    "df['Quick Ratio'] = fill_values_in_same_quarter(df['Quick Ratio'], df['PERMNO'])\n",
    "df['Cash Ratio'] = fill_values_in_same_quarter(df['Cash Ratio'], df['PERMNO'])"
   ]
  },
  {
   "cell_type": "code",
   "execution_count": 7,
   "metadata": {},
   "outputs": [],
   "source": [
    "df.to_csv(\"D:\\\\NYU\\Syllabus\\Spring 2020\\Quant Equity Invest\\Project\\Original Data\\Quarterly2.csv\",\n",
    "         index = False)"
   ]
  },
  {
   "cell_type": "code",
   "execution_count": null,
   "metadata": {},
   "outputs": [],
   "source": []
  }
 ],
 "metadata": {
  "kernelspec": {
   "display_name": "Python 3",
   "language": "python",
   "name": "python3"
  },
  "language_info": {
   "codemirror_mode": {
    "name": "ipython",
    "version": 3
   },
   "file_extension": ".py",
   "mimetype": "text/x-python",
   "name": "python",
   "nbconvert_exporter": "python",
   "pygments_lexer": "ipython3",
   "version": "3.7.6"
  },
  "toc": {
   "base_numbering": 1,
   "nav_menu": {},
   "number_sections": true,
   "sideBar": true,
   "skip_h1_title": false,
   "title_cell": "Table of Contents",
   "title_sidebar": "Contents",
   "toc_cell": false,
   "toc_position": {},
   "toc_section_display": true,
   "toc_window_display": false
  }
 },
 "nbformat": 4,
 "nbformat_minor": 2
}
