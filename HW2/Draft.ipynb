{
 "cells": [
  {
   "cell_type": "markdown",
   "metadata": {},
   "source": [
    "# Import Packages"
   ]
  },
  {
   "cell_type": "code",
   "execution_count": 1,
   "metadata": {},
   "outputs": [],
   "source": [
    "import test_helper as th\n",
    "import numpy as np\n",
    "import pandas as pd \n",
    "import Statistics\n",
    "import seaborn as sns; sns.set()\n",
    "import matplotlib.pyplot as plt\n",
    "%matplotlib inline"
   ]
  },
  {
   "cell_type": "markdown",
   "metadata": {},
   "source": [
    "# Load Data"
   ]
  },
  {
   "cell_type": "code",
   "execution_count": 2,
   "metadata": {},
   "outputs": [],
   "source": [
    "pd.set_option(\"display.max_columns\", None)"
   ]
  },
  {
   "cell_type": "code",
   "execution_count": 3,
   "metadata": {},
   "outputs": [],
   "source": [
    "df = pd.read_csv(\"./Data/Fast.csv\")"
   ]
  },
  {
   "cell_type": "code",
   "execution_count": 5,
   "metadata": {},
   "outputs": [
    {
     "data": {
      "text/html": [
       "<div>\n",
       "<style scoped>\n",
       "    .dataframe tbody tr th:only-of-type {\n",
       "        vertical-align: middle;\n",
       "    }\n",
       "\n",
       "    .dataframe tbody tr th {\n",
       "        vertical-align: top;\n",
       "    }\n",
       "\n",
       "    .dataframe thead th {\n",
       "        text-align: right;\n",
       "    }\n",
       "</style>\n",
       "<table border=\"1\" class=\"dataframe\">\n",
       "  <thead>\n",
       "    <tr style=\"text-align: right;\">\n",
       "      <th></th>\n",
       "      <th>Date</th>\n",
       "      <th>Ticker</th>\n",
       "      <th>Close</th>\n",
       "      <th>Return</th>\n",
       "      <th>1W</th>\n",
       "      <th>1M</th>\n",
       "      <th>3M</th>\n",
       "      <th>6M</th>\n",
       "      <th>SPY Close</th>\n",
       "      <th>SPY Return</th>\n",
       "      <th>Rf</th>\n",
       "      <th>Beta</th>\n",
       "      <th>Alpha</th>\n",
       "      <th>1W + 1M</th>\n",
       "      <th>1W + 3M</th>\n",
       "      <th>1W + 6M</th>\n",
       "      <th>1M + 3M</th>\n",
       "      <th>1M + 6M</th>\n",
       "      <th>3M + 6M</th>\n",
       "      <th>1W + 1M + 3M</th>\n",
       "      <th>1W + 1M + 6M</th>\n",
       "      <th>1W + 3M + 6M</th>\n",
       "      <th>1M + 3M + 6M</th>\n",
       "      <th>Total Rank</th>\n",
       "    </tr>\n",
       "  </thead>\n",
       "  <tbody>\n",
       "    <tr>\n",
       "      <th>0</th>\n",
       "      <td>2018-03-01</td>\n",
       "      <td>MMM</td>\n",
       "      <td>231.339996</td>\n",
       "      <td>-0.017706</td>\n",
       "      <td>7.0</td>\n",
       "      <td>8.0</td>\n",
       "      <td>7.0</td>\n",
       "      <td>4.0</td>\n",
       "      <td>267.700012</td>\n",
       "      <td>-0.014541</td>\n",
       "      <td>0.000081</td>\n",
       "      <td>1.074155</td>\n",
       "      <td>-0.524473</td>\n",
       "      <td>7.5</td>\n",
       "      <td>7.0</td>\n",
       "      <td>5.5</td>\n",
       "      <td>7.5</td>\n",
       "      <td>6.0</td>\n",
       "      <td>5.5</td>\n",
       "      <td>7.333333</td>\n",
       "      <td>6.333333</td>\n",
       "      <td>6.000000</td>\n",
       "      <td>6.333333</td>\n",
       "      <td>6.50</td>\n",
       "    </tr>\n",
       "    <tr>\n",
       "      <th>1</th>\n",
       "      <td>2018-03-01</td>\n",
       "      <td>AOS</td>\n",
       "      <td>62.060001</td>\n",
       "      <td>-0.033183</td>\n",
       "      <td>10.0</td>\n",
       "      <td>6.0</td>\n",
       "      <td>6.0</td>\n",
       "      <td>4.0</td>\n",
       "      <td>267.700012</td>\n",
       "      <td>-0.014541</td>\n",
       "      <td>0.000081</td>\n",
       "      <td>1.153893</td>\n",
       "      <td>-4.130742</td>\n",
       "      <td>8.0</td>\n",
       "      <td>8.0</td>\n",
       "      <td>7.0</td>\n",
       "      <td>6.0</td>\n",
       "      <td>5.0</td>\n",
       "      <td>5.0</td>\n",
       "      <td>7.333333</td>\n",
       "      <td>6.666667</td>\n",
       "      <td>6.666667</td>\n",
       "      <td>5.333333</td>\n",
       "      <td>6.50</td>\n",
       "    </tr>\n",
       "    <tr>\n",
       "      <th>2</th>\n",
       "      <td>2018-03-01</td>\n",
       "      <td>ABT</td>\n",
       "      <td>58.790001</td>\n",
       "      <td>-0.025526</td>\n",
       "      <td>4.0</td>\n",
       "      <td>6.0</td>\n",
       "      <td>4.0</td>\n",
       "      <td>3.0</td>\n",
       "      <td>267.700012</td>\n",
       "      <td>-0.014541</td>\n",
       "      <td>0.000081</td>\n",
       "      <td>0.911332</td>\n",
       "      <td>-3.095087</td>\n",
       "      <td>5.0</td>\n",
       "      <td>4.0</td>\n",
       "      <td>3.5</td>\n",
       "      <td>5.0</td>\n",
       "      <td>4.5</td>\n",
       "      <td>3.5</td>\n",
       "      <td>4.666667</td>\n",
       "      <td>4.333333</td>\n",
       "      <td>3.666667</td>\n",
       "      <td>4.333333</td>\n",
       "      <td>4.25</td>\n",
       "    </tr>\n",
       "  </tbody>\n",
       "</table>\n",
       "</div>"
      ],
      "text/plain": [
       "         Date Ticker       Close    Return    1W   1M   3M   6M   SPY Close  \\\n",
       "0  2018-03-01    MMM  231.339996 -0.017706   7.0  8.0  7.0  4.0  267.700012   \n",
       "1  2018-03-01    AOS   62.060001 -0.033183  10.0  6.0  6.0  4.0  267.700012   \n",
       "2  2018-03-01    ABT   58.790001 -0.025526   4.0  6.0  4.0  3.0  267.700012   \n",
       "\n",
       "   SPY Return        Rf      Beta     Alpha  1W + 1M  1W + 3M  1W + 6M  \\\n",
       "0   -0.014541  0.000081  1.074155 -0.524473      7.5      7.0      5.5   \n",
       "1   -0.014541  0.000081  1.153893 -4.130742      8.0      8.0      7.0   \n",
       "2   -0.014541  0.000081  0.911332 -3.095087      5.0      4.0      3.5   \n",
       "\n",
       "   1M + 3M  1M + 6M  3M + 6M  1W + 1M + 3M  1W + 1M + 6M  1W + 3M + 6M  \\\n",
       "0      7.5      6.0      5.5      7.333333      6.333333      6.000000   \n",
       "1      6.0      5.0      5.0      7.333333      6.666667      6.666667   \n",
       "2      5.0      4.5      3.5      4.666667      4.333333      3.666667   \n",
       "\n",
       "   1M + 3M + 6M  Total Rank  \n",
       "0      6.333333        6.50  \n",
       "1      5.333333        6.50  \n",
       "2      4.333333        4.25  "
      ]
     },
     "execution_count": 5,
     "metadata": {},
     "output_type": "execute_result"
    }
   ],
   "source": [
    "df.head(3)"
   ]
  },
  {
   "cell_type": "code",
   "execution_count": null,
   "metadata": {},
   "outputs": [],
   "source": []
  }
 ],
 "metadata": {
  "kernelspec": {
   "display_name": "Python 3",
   "language": "python",
   "name": "python3"
  },
  "language_info": {
   "codemirror_mode": {
    "name": "ipython",
    "version": 3
   },
   "file_extension": ".py",
   "mimetype": "text/x-python",
   "name": "python",
   "nbconvert_exporter": "python",
   "pygments_lexer": "ipython3",
   "version": "3.7.6"
  },
  "toc": {
   "base_numbering": 1,
   "nav_menu": {},
   "number_sections": true,
   "sideBar": true,
   "skip_h1_title": false,
   "title_cell": "Table of Contents",
   "title_sidebar": "Contents",
   "toc_cell": false,
   "toc_position": {
    "height": "calc(100% - 180px)",
    "left": "10px",
    "top": "150px",
    "width": "268.233px"
   },
   "toc_section_display": true,
   "toc_window_display": true
  }
 },
 "nbformat": 4,
 "nbformat_minor": 2
}
